{
 "cells": [
  {
   "cell_type": "code",
   "execution_count": null,
   "metadata": {},
   "outputs": [],
   "source": []
  },
  {
   "cell_type": "code",
   "execution_count": null,
   "metadata": {
    "collapsed": true
   },
   "outputs": [
    {
     "ename": "",
     "evalue": "",
     "output_type": "error",
     "traceback": [
      "\u001b[1;31mRunning cells with 'Python 3.10.6 ('Deal_sourcing')' requires ipykernel package.\n",
      "Run the following command to install 'ipykernel' into the Python environment. \n",
      "Command: 'conda install -n Deal_sourcing ipykernel --update-deps --force-reinstall'"
     ]
    }
   ],
   "source": [
    "import pandas as pd"
   ]
  },
  {
   "cell_type": "markdown",
   "metadata": {},
   "source": [
    "# Use TSV to create a modular dataframe"
   ]
  },
  {
   "cell_type": "code",
   "execution_count": 3,
   "metadata": {
    "collapsed": false
   },
   "outputs": [],
   "source": [
    "edges = pd.read_csv('data/hetionet-v1.0-edges.tsv', sep='\\t', header=0)"
   ]
  },
  {
   "cell_type": "code",
   "execution_count": 4,
   "metadata": {
    "collapsed": false
   },
   "outputs": [],
   "source": [
    "nodes = pd.read_csv('data/hetionet-v1.0-nodes.tsv.tsv', sep='\\t', header=0)"
   ]
  },
  {
   "cell_type": "code",
   "execution_count": 5,
   "metadata": {
    "collapsed": false
   },
   "outputs": [
    {
     "data": {
      "text/html": [
       "<div>\n",
       "<style scoped>\n",
       "    .dataframe tbody tr th:only-of-type {\n",
       "        vertical-align: middle;\n",
       "    }\n",
       "\n",
       "    .dataframe tbody tr th {\n",
       "        vertical-align: top;\n",
       "    }\n",
       "\n",
       "    .dataframe thead th {\n",
       "        text-align: right;\n",
       "    }\n",
       "</style>\n",
       "<table border=\"1\" class=\"dataframe\">\n",
       "  <thead>\n",
       "    <tr style=\"text-align: right;\">\n",
       "      <th></th>\n",
       "      <th>source</th>\n",
       "      <th>metaedge</th>\n",
       "      <th>target</th>\n",
       "    </tr>\n",
       "  </thead>\n",
       "  <tbody>\n",
       "    <tr>\n",
       "      <th>0</th>\n",
       "      <td>Gene::9021</td>\n",
       "      <td>GpBP</td>\n",
       "      <td>Biological Process::GO:0071357</td>\n",
       "    </tr>\n",
       "    <tr>\n",
       "      <th>1</th>\n",
       "      <td>Gene::51676</td>\n",
       "      <td>GpBP</td>\n",
       "      <td>Biological Process::GO:0098780</td>\n",
       "    </tr>\n",
       "    <tr>\n",
       "      <th>2</th>\n",
       "      <td>Gene::19</td>\n",
       "      <td>GpBP</td>\n",
       "      <td>Biological Process::GO:0055088</td>\n",
       "    </tr>\n",
       "    <tr>\n",
       "      <th>3</th>\n",
       "      <td>Gene::3176</td>\n",
       "      <td>GpBP</td>\n",
       "      <td>Biological Process::GO:0010243</td>\n",
       "    </tr>\n",
       "    <tr>\n",
       "      <th>4</th>\n",
       "      <td>Gene::3039</td>\n",
       "      <td>GpBP</td>\n",
       "      <td>Biological Process::GO:0006898</td>\n",
       "    </tr>\n",
       "  </tbody>\n",
       "</table>\n",
       "</div>"
      ],
      "text/plain": [
       "        source metaedge                          target\n",
       "0   Gene::9021     GpBP  Biological Process::GO:0071357\n",
       "1  Gene::51676     GpBP  Biological Process::GO:0098780\n",
       "2     Gene::19     GpBP  Biological Process::GO:0055088\n",
       "3   Gene::3176     GpBP  Biological Process::GO:0010243\n",
       "4   Gene::3039     GpBP  Biological Process::GO:0006898"
      ]
     },
     "execution_count": 5,
     "metadata": {},
     "output_type": "execute_result"
    }
   ],
   "source": [
    "edges.head()"
   ]
  },
  {
   "cell_type": "code",
   "execution_count": 6,
   "metadata": {},
   "outputs": [
    {
     "data": {
      "text/plain": [
       "{'Anatomy',\n",
       " 'Biological Process',\n",
       " 'Cellular Component',\n",
       " 'Compound',\n",
       " 'Disease',\n",
       " 'Gene',\n",
       " 'Molecular Function',\n",
       " 'Pathway',\n",
       " 'Pharmacologic Class',\n",
       " 'Side Effect',\n",
       " 'Symptom'}"
      ]
     },
     "execution_count": 6,
     "metadata": {},
     "output_type": "execute_result"
    }
   ],
   "source": [
    "set(nodes['kind'])"
   ]
  },
  {
   "cell_type": "code",
   "execution_count": 7,
   "metadata": {
    "collapsed": false
   },
   "outputs": [
    {
     "data": {
      "text/html": [
       "<div>\n",
       "<style scoped>\n",
       "    .dataframe tbody tr th:only-of-type {\n",
       "        vertical-align: middle;\n",
       "    }\n",
       "\n",
       "    .dataframe tbody tr th {\n",
       "        vertical-align: top;\n",
       "    }\n",
       "\n",
       "    .dataframe thead th {\n",
       "        text-align: right;\n",
       "    }\n",
       "</style>\n",
       "<table border=\"1\" class=\"dataframe\">\n",
       "  <thead>\n",
       "    <tr style=\"text-align: right;\">\n",
       "      <th></th>\n",
       "      <th>source</th>\n",
       "      <th>metaedge</th>\n",
       "      <th>target</th>\n",
       "    </tr>\n",
       "  </thead>\n",
       "  <tbody>\n",
       "    <tr>\n",
       "      <th>0</th>\n",
       "      <td>Gene::9021</td>\n",
       "      <td>GpBP</td>\n",
       "      <td>Biological Process::GO:0071357</td>\n",
       "    </tr>\n",
       "    <tr>\n",
       "      <th>1</th>\n",
       "      <td>Gene::51676</td>\n",
       "      <td>GpBP</td>\n",
       "      <td>Biological Process::GO:0098780</td>\n",
       "    </tr>\n",
       "    <tr>\n",
       "      <th>2</th>\n",
       "      <td>Gene::19</td>\n",
       "      <td>GpBP</td>\n",
       "      <td>Biological Process::GO:0055088</td>\n",
       "    </tr>\n",
       "    <tr>\n",
       "      <th>3</th>\n",
       "      <td>Gene::3176</td>\n",
       "      <td>GpBP</td>\n",
       "      <td>Biological Process::GO:0010243</td>\n",
       "    </tr>\n",
       "    <tr>\n",
       "      <th>4</th>\n",
       "      <td>Gene::3039</td>\n",
       "      <td>GpBP</td>\n",
       "      <td>Biological Process::GO:0006898</td>\n",
       "    </tr>\n",
       "  </tbody>\n",
       "</table>\n",
       "</div>"
      ],
      "text/plain": [
       "        source metaedge                          target\n",
       "0   Gene::9021     GpBP  Biological Process::GO:0071357\n",
       "1  Gene::51676     GpBP  Biological Process::GO:0098780\n",
       "2     Gene::19     GpBP  Biological Process::GO:0055088\n",
       "3   Gene::3176     GpBP  Biological Process::GO:0010243\n",
       "4   Gene::3039     GpBP  Biological Process::GO:0006898"
      ]
     },
     "execution_count": 7,
     "metadata": {},
     "output_type": "execute_result"
    }
   ],
   "source": [
    "edges.head()"
   ]
  },
  {
   "cell_type": "markdown",
   "metadata": {
    "collapsed": false
   },
   "source": [
    "# make map to map IDs with actual name and kind"
   ]
  },
  {
   "cell_type": "code",
   "execution_count": 8,
   "metadata": {
    "collapsed": false
   },
   "outputs": [],
   "source": [
    "source_or_target_list_map = nodes['id']"
   ]
  },
  {
   "cell_type": "code",
   "execution_count": 9,
   "metadata": {
    "collapsed": false
   },
   "outputs": [],
   "source": [
    "\"\"\"\" function that makes dictionary from two lists\"\"\"\n",
    "def make_dict(list1, list2):\n",
    "    return dict(zip(list1, list2))"
   ]
  },
  {
   "cell_type": "code",
   "execution_count": 10,
   "metadata": {},
   "outputs": [],
   "source": [
    "dict_name = make_dict(source_or_target_list_map, nodes['name'])"
   ]
  },
  {
   "cell_type": "code",
   "execution_count": 11,
   "metadata": {},
   "outputs": [],
   "source": [
    "dict_kind= make_dict(source_or_target_list_map, nodes['kind'])"
   ]
  },
  {
   "cell_type": "code",
   "execution_count": 12,
   "metadata": {},
   "outputs": [],
   "source": [
    "final_network_map = edges.copy(deep=True)"
   ]
  },
  {
   "cell_type": "code",
   "execution_count": 13,
   "metadata": {},
   "outputs": [],
   "source": [
    "final_network_map['source_name'] = final_network_map['source'].map(dict_name)\n",
    "final_network_map['target_name'] = final_network_map['target'].map(dict_name)\n"
   ]
  },
  {
   "cell_type": "code",
   "execution_count": 14,
   "metadata": {},
   "outputs": [],
   "source": [
    "final_network_map['kind_of_source'] = final_network_map['source'].map(dict_kind)"
   ]
  },
  {
   "cell_type": "code",
   "execution_count": 15,
   "metadata": {},
   "outputs": [],
   "source": [
    "final_network_map['kind_of_target'] = final_network_map['target'].map(dict_kind)"
   ]
  },
  {
   "cell_type": "code",
   "execution_count": 28,
   "metadata": {},
   "outputs": [
    {
     "data": {
      "text/html": [
       "<div>\n",
       "<style scoped>\n",
       "    .dataframe tbody tr th:only-of-type {\n",
       "        vertical-align: middle;\n",
       "    }\n",
       "\n",
       "    .dataframe tbody tr th {\n",
       "        vertical-align: top;\n",
       "    }\n",
       "\n",
       "    .dataframe thead th {\n",
       "        text-align: right;\n",
       "    }\n",
       "</style>\n",
       "<table border=\"1\" class=\"dataframe\">\n",
       "  <thead>\n",
       "    <tr style=\"text-align: right;\">\n",
       "      <th></th>\n",
       "      <th>source</th>\n",
       "      <th>metaedge</th>\n",
       "      <th>target</th>\n",
       "      <th>source_name</th>\n",
       "      <th>target_name</th>\n",
       "      <th>kind_of_source</th>\n",
       "      <th>kind_of_target</th>\n",
       "    </tr>\n",
       "  </thead>\n",
       "  <tbody>\n",
       "    <tr>\n",
       "      <th>count</th>\n",
       "      <td>2250197</td>\n",
       "      <td>2250197</td>\n",
       "      <td>2250197</td>\n",
       "      <td>2250197</td>\n",
       "      <td>2250197</td>\n",
       "      <td>2250197</td>\n",
       "      <td>2250197</td>\n",
       "    </tr>\n",
       "    <tr>\n",
       "      <th>unique</th>\n",
       "      <td>20138</td>\n",
       "      <td>24</td>\n",
       "      <td>44204</td>\n",
       "      <td>20131</td>\n",
       "      <td>44080</td>\n",
       "      <td>5</td>\n",
       "      <td>10</td>\n",
       "    </tr>\n",
       "    <tr>\n",
       "      <th>top</th>\n",
       "      <td>Anatomy::UBERON:0000473</td>\n",
       "      <td>GpBP</td>\n",
       "      <td>Gene::7316</td>\n",
       "      <td>testis</td>\n",
       "      <td>UBC</td>\n",
       "      <td>Gene</td>\n",
       "      <td>Gene</td>\n",
       "    </tr>\n",
       "    <tr>\n",
       "      <th>freq</th>\n",
       "      <td>23866</td>\n",
       "      <td>559504</td>\n",
       "      <td>2718</td>\n",
       "      <td>23866</td>\n",
       "      <td>2718</td>\n",
       "      <td>1289190</td>\n",
       "      <td>1280427</td>\n",
       "    </tr>\n",
       "  </tbody>\n",
       "</table>\n",
       "</div>"
      ],
      "text/plain": [
       "                         source metaedge      target source_name target_name  \\\n",
       "count                   2250197  2250197     2250197     2250197     2250197   \n",
       "unique                    20138       24       44204       20131       44080   \n",
       "top     Anatomy::UBERON:0000473     GpBP  Gene::7316      testis         UBC   \n",
       "freq                      23866   559504        2718       23866        2718   \n",
       "\n",
       "       kind_of_source kind_of_target  \n",
       "count         2250197        2250197  \n",
       "unique              5             10  \n",
       "top              Gene           Gene  \n",
       "freq          1289190        1280427  "
      ]
     },
     "execution_count": 28,
     "metadata": {},
     "output_type": "execute_result"
    }
   ],
   "source": [
    "final_network_map.describe()"
   ]
  },
  {
   "cell_type": "code",
   "execution_count": 29,
   "metadata": {},
   "outputs": [
    {
     "name": "stdout",
     "output_type": "stream",
     "text": [
      "<class 'pandas.core.frame.DataFrame'>\n",
      "RangeIndex: 2250197 entries, 0 to 2250196\n",
      "Data columns (total 7 columns):\n",
      " #   Column          Dtype \n",
      "---  ------          ----- \n",
      " 0   source          object\n",
      " 1   metaedge        object\n",
      " 2   target          object\n",
      " 3   source_name     object\n",
      " 4   target_name     object\n",
      " 5   kind_of_source  object\n",
      " 6   kind_of_target  object\n",
      "dtypes: object(7)\n",
      "memory usage: 120.2+ MB\n"
     ]
    }
   ],
   "source": [
    "final_network_map.info()"
   ]
  },
  {
   "cell_type": "code",
   "execution_count": 25,
   "metadata": {},
   "outputs": [
    {
     "data": {
      "text/plain": [
       "6487"
      ]
     },
     "execution_count": 25,
     "metadata": {},
     "output_type": "execute_result"
    }
   ],
   "source": [
    "len(list(set(final_network_map[final_network_map['kind_of_source']=='Compound']['source_name'] + final_network_map[final_network_map['kind_of_target']=='Compound']['target_name'])))"
   ]
  },
  {
   "cell_type": "code",
   "execution_count": 18,
   "metadata": {},
   "outputs": [
    {
     "data": {
      "text/plain": [
       "False"
      ]
     },
     "execution_count": 18,
     "metadata": {},
     "output_type": "execute_result"
    }
   ],
   "source": [
    "list(set(final_network_map['kind_of_source'])) == list(set(final_network_map['kind_of_target']))"
   ]
  },
  {
   "cell_type": "code",
   "execution_count": 19,
   "metadata": {},
   "outputs": [],
   "source": [
    "def find_diff(list1,list2):\n",
    "    return (list(set(list1) - set(list2)))"
   ]
  },
  {
   "cell_type": "code",
   "execution_count": 20,
   "metadata": {},
   "outputs": [
    {
     "data": {
      "text/plain": [
       "['Gene', 'Compound', 'Anatomy', 'Pharmacologic Class', 'Disease']"
      ]
     },
     "execution_count": 20,
     "metadata": {},
     "output_type": "execute_result"
    }
   ],
   "source": [
    "list(set(final_network_map['kind_of_source']))"
   ]
  },
  {
   "cell_type": "code",
   "execution_count": 21,
   "metadata": {},
   "outputs": [
    {
     "data": {
      "text/plain": [
       "['Cellular Component',\n",
       " 'Pathway',\n",
       " 'Gene',\n",
       " 'Compound',\n",
       " 'Symptom',\n",
       " 'Anatomy',\n",
       " 'Molecular Function',\n",
       " 'Side Effect',\n",
       " 'Disease',\n",
       " 'Biological Process']"
      ]
     },
     "execution_count": 21,
     "metadata": {},
     "output_type": "execute_result"
    }
   ],
   "source": [
    "list(set(final_network_map['kind_of_target']))"
   ]
  },
  {
   "cell_type": "code",
   "execution_count": 22,
   "metadata": {},
   "outputs": [
    {
     "data": {
      "text/plain": [
       "['Pharmacologic Class']"
      ]
     },
     "execution_count": 22,
     "metadata": {},
     "output_type": "execute_result"
    }
   ],
   "source": [
    "find_diff(list(set(final_network_map['kind_of_source'])), list(set(final_network_map['kind_of_target'])))"
   ]
  },
  {
   "cell_type": "code",
   "execution_count": 23,
   "metadata": {},
   "outputs": [],
   "source": [
    "meta_edge_encoding = pd.read_csv('data/meta_edges_encoding.tsv', sep='\\t', header=0)"
   ]
  },
  {
   "cell_type": "code",
   "execution_count": 24,
   "metadata": {},
   "outputs": [
    {
     "data": {
      "text/plain": [
       "True"
      ]
     },
     "execution_count": 24,
     "metadata": {},
     "output_type": "execute_result"
    }
   ],
   "source": [
    "set(meta_edge_encoding['abbreviation']) == set(final_network_map['metaedge'])"
   ]
  },
  {
   "cell_type": "markdown",
   "metadata": {},
   "source": [
    "## since the meta_edge_ecoding is same as final_network_map metaedges we can encode them"
   ]
  },
  {
   "cell_type": "code",
   "execution_count": 25,
   "metadata": {},
   "outputs": [],
   "source": [
    "met_edge_map = make_dict(meta_edge_encoding['abbreviation'], meta_edge_encoding['metaedge'])"
   ]
  },
  {
   "cell_type": "code",
   "execution_count": 26,
   "metadata": {},
   "outputs": [],
   "source": [
    "final_network_map['metaedge'] = final_network_map['metaedge'].map(met_edge_map)"
   ]
  },
  {
   "cell_type": "code",
   "execution_count": 32,
   "metadata": {},
   "outputs": [],
   "source": [
    "final_network_map.to_csv('data/final_network_map.csv', index=False)"
   ]
  },
  {
   "cell_type": "code",
   "execution_count": 27,
   "metadata": {},
   "outputs": [
    {
     "data": {
      "text/plain": [
       "['Gene - participates - Molecular Function',\n",
       " 'Disease - presents - Symptom',\n",
       " 'Disease - downregulates - Gene',\n",
       " 'Disease - upregulates - Gene',\n",
       " 'Compound - causes - Side Effect',\n",
       " 'Disease - resembles - Disease',\n",
       " 'Compound - downregulates - Gene',\n",
       " 'Disease - associates - Gene',\n",
       " 'Gene > regulates > Gene',\n",
       " 'Compound - upregulates - Gene',\n",
       " 'Anatomy - expresses - Gene',\n",
       " 'Pharmacologic Class - includes - Compound',\n",
       " 'Disease - localizes - Anatomy',\n",
       " 'Gene - participates - Pathway',\n",
       " 'Anatomy - downregulates - Gene',\n",
       " 'Gene - participates - Cellular Component',\n",
       " 'Gene - participates - Biological Process',\n",
       " 'Compound - binds - Gene',\n",
       " 'Compound - resembles - Compound',\n",
       " 'Compound - treats - Disease',\n",
       " 'Compound - palliates - Disease',\n",
       " 'Anatomy - upregulates - Gene',\n",
       " 'Gene - interacts - Gene',\n",
       " 'Gene - covaries - Gene']"
      ]
     },
     "execution_count": 27,
     "metadata": {},
     "output_type": "execute_result"
    }
   ],
   "source": [
    "list(set(final_network_map['metaedge']))"
   ]
  },
  {
   "cell_type": "markdown",
   "metadata": {},
   "source": [
    "# now we can use this csv to make a streamlit app"
   ]
  },
  {
   "cell_type": "code",
   "execution_count": 46,
   "metadata": {},
   "outputs": [],
   "source": [
    "df_gene = pd.concat([final_network_map[final_network_map['kind_of_source']=='Gene'],final_network_map[final_network_map['kind_of_target']=='Gene']]).reset_index(drop=True)  "
   ]
  },
  {
   "cell_type": "code",
   "execution_count": 60,
   "metadata": {},
   "outputs": [],
   "source": [
    "df_disease = (pd.concat([final_network_map[final_network_map['kind_of_source']=='Disease'],final_network_map[final_network_map['kind_of_target']=='Disease']]).reset_index(drop=True)).drop_duplicates(keep='first')"
   ]
  },
  {
   "cell_type": "code",
   "execution_count": 68,
   "metadata": {},
   "outputs": [
    {
     "data": {
      "text/plain": [
       "799"
      ]
     },
     "execution_count": 68,
     "metadata": {},
     "output_type": "execute_result"
    }
   ],
   "source": [
    "len((list(set(df_disease[df_disease['kind_of_source']=='Disease']['source_name']))+list(set(df_disease[df_disease['kind_of_target']=='Disease']['source_name']))))"
   ]
  },
  {
   "cell_type": "code",
   "execution_count": 75,
   "metadata": {},
   "outputs": [
    {
     "data": {
      "text/plain": [
       "{'Anatomy', 'Disease', 'Gene', 'Symptom'}"
      ]
     },
     "execution_count": 75,
     "metadata": {},
     "output_type": "execute_result"
    }
   ],
   "source": [
    "set(df_disease['kind_of_target'])"
   ]
  },
  {
   "cell_type": "code",
   "execution_count": 76,
   "metadata": {},
   "outputs": [],
   "source": [
    "df_disease.to_csv('df_disease.csv', index=False)"
   ]
  },
  {
   "cell_type": "code",
   "execution_count": 50,
   "metadata": {},
   "outputs": [],
   "source": [
    "df_gene_disease = (pd.concat([df_gene,df_disease]).reset_index(drop=True)).drop_duplicates(keep='first').reset_index(drop=True)"
   ]
  },
  {
   "cell_type": "code",
   "execution_count": 57,
   "metadata": {},
   "outputs": [],
   "source": [
    "df_target_disease = pd.concat([df_gene_disease[df_gene_disease['kind_of_target']=='Disease'],df_gene_disease[df_gene_disease['kind_of_source']=='Disease']])"
   ]
  },
  {
   "cell_type": "code",
   "execution_count": 58,
   "metadata": {},
   "outputs": [],
   "source": [
    "df_target_disease = df_target_disease.reset_index(drop=True)"
   ]
  },
  {
   "cell_type": "code",
   "execution_count": 59,
   "metadata": {},
   "outputs": [
    {
     "data": {
      "text/html": [
       "<div>\n",
       "<style scoped>\n",
       "    .dataframe tbody tr th:only-of-type {\n",
       "        vertical-align: middle;\n",
       "    }\n",
       "\n",
       "    .dataframe tbody tr th {\n",
       "        vertical-align: top;\n",
       "    }\n",
       "\n",
       "    .dataframe thead th {\n",
       "        text-align: right;\n",
       "    }\n",
       "</style>\n",
       "<table border=\"1\" class=\"dataframe\">\n",
       "  <thead>\n",
       "    <tr style=\"text-align: right;\">\n",
       "      <th></th>\n",
       "      <th>source</th>\n",
       "      <th>metaedge</th>\n",
       "      <th>target</th>\n",
       "      <th>source_name</th>\n",
       "      <th>target_name</th>\n",
       "      <th>kind_of_source</th>\n",
       "      <th>kind_of_target</th>\n",
       "    </tr>\n",
       "  </thead>\n",
       "  <tbody>\n",
       "    <tr>\n",
       "      <th>0</th>\n",
       "      <td>Disease::DOID:2994</td>\n",
       "      <td>Disease - resembles - Disease</td>\n",
       "      <td>Disease::DOID:11934</td>\n",
       "      <td>germ cell cancer</td>\n",
       "      <td>head and neck cancer</td>\n",
       "      <td>Disease</td>\n",
       "      <td>Disease</td>\n",
       "    </tr>\n",
       "    <tr>\n",
       "      <th>1</th>\n",
       "      <td>Disease::DOID:219</td>\n",
       "      <td>Disease - resembles - Disease</td>\n",
       "      <td>Disease::DOID:3571</td>\n",
       "      <td>colon cancer</td>\n",
       "      <td>liver cancer</td>\n",
       "      <td>Disease</td>\n",
       "      <td>Disease</td>\n",
       "    </tr>\n",
       "    <tr>\n",
       "      <th>2</th>\n",
       "      <td>Disease::DOID:263</td>\n",
       "      <td>Disease - resembles - Disease</td>\n",
       "      <td>Disease::DOID:4045</td>\n",
       "      <td>kidney cancer</td>\n",
       "      <td>muscle cancer</td>\n",
       "      <td>Disease</td>\n",
       "      <td>Disease</td>\n",
       "    </tr>\n",
       "    <tr>\n",
       "      <th>3</th>\n",
       "      <td>Disease::DOID:1964</td>\n",
       "      <td>Disease - resembles - Disease</td>\n",
       "      <td>Disease::DOID:13223</td>\n",
       "      <td>fallopian tube cancer</td>\n",
       "      <td>uterine fibroid</td>\n",
       "      <td>Disease</td>\n",
       "      <td>Disease</td>\n",
       "    </tr>\n",
       "    <tr>\n",
       "      <th>4</th>\n",
       "      <td>Disease::DOID:184</td>\n",
       "      <td>Disease - resembles - Disease</td>\n",
       "      <td>Disease::DOID:10283</td>\n",
       "      <td>bone cancer</td>\n",
       "      <td>prostate cancer</td>\n",
       "      <td>Disease</td>\n",
       "      <td>Disease</td>\n",
       "    </tr>\n",
       "    <tr>\n",
       "      <th>...</th>\n",
       "      <td>...</td>\n",
       "      <td>...</td>\n",
       "      <td>...</td>\n",
       "      <td>...</td>\n",
       "      <td>...</td>\n",
       "      <td>...</td>\n",
       "      <td>...</td>\n",
       "    </tr>\n",
       "    <tr>\n",
       "      <th>37162</th>\n",
       "      <td>Disease::DOID:219</td>\n",
       "      <td>Disease - resembles - Disease</td>\n",
       "      <td>Disease::DOID:8577</td>\n",
       "      <td>colon cancer</td>\n",
       "      <td>ulcerative colitis</td>\n",
       "      <td>Disease</td>\n",
       "      <td>Disease</td>\n",
       "    </tr>\n",
       "    <tr>\n",
       "      <th>37163</th>\n",
       "      <td>Disease::DOID:2994</td>\n",
       "      <td>Disease - resembles - Disease</td>\n",
       "      <td>Disease::DOID:13499</td>\n",
       "      <td>germ cell cancer</td>\n",
       "      <td>jejunal cancer</td>\n",
       "      <td>Disease</td>\n",
       "      <td>Disease</td>\n",
       "    </tr>\n",
       "    <tr>\n",
       "      <th>37164</th>\n",
       "      <td>Disease::DOID:1793</td>\n",
       "      <td>Disease - resembles - Disease</td>\n",
       "      <td>Disease::DOID:10534</td>\n",
       "      <td>pancreatic cancer</td>\n",
       "      <td>stomach cancer</td>\n",
       "      <td>Disease</td>\n",
       "      <td>Disease</td>\n",
       "    </tr>\n",
       "    <tr>\n",
       "      <th>37165</th>\n",
       "      <td>Disease::DOID:219</td>\n",
       "      <td>Disease - resembles - Disease</td>\n",
       "      <td>Disease::DOID:3121</td>\n",
       "      <td>colon cancer</td>\n",
       "      <td>gallbladder cancer</td>\n",
       "      <td>Disease</td>\n",
       "      <td>Disease</td>\n",
       "    </tr>\n",
       "    <tr>\n",
       "      <th>37166</th>\n",
       "      <td>Disease::DOID:4045</td>\n",
       "      <td>Disease - resembles - Disease</td>\n",
       "      <td>Disease::DOID:2174</td>\n",
       "      <td>muscle cancer</td>\n",
       "      <td>ocular cancer</td>\n",
       "      <td>Disease</td>\n",
       "      <td>Disease</td>\n",
       "    </tr>\n",
       "  </tbody>\n",
       "</table>\n",
       "<p>37167 rows × 7 columns</p>\n",
       "</div>"
      ],
      "text/plain": [
       "                   source                       metaedge               target  \\\n",
       "0      Disease::DOID:2994  Disease - resembles - Disease  Disease::DOID:11934   \n",
       "1       Disease::DOID:219  Disease - resembles - Disease   Disease::DOID:3571   \n",
       "2       Disease::DOID:263  Disease - resembles - Disease   Disease::DOID:4045   \n",
       "3      Disease::DOID:1964  Disease - resembles - Disease  Disease::DOID:13223   \n",
       "4       Disease::DOID:184  Disease - resembles - Disease  Disease::DOID:10283   \n",
       "...                   ...                            ...                  ...   \n",
       "37162   Disease::DOID:219  Disease - resembles - Disease   Disease::DOID:8577   \n",
       "37163  Disease::DOID:2994  Disease - resembles - Disease  Disease::DOID:13499   \n",
       "37164  Disease::DOID:1793  Disease - resembles - Disease  Disease::DOID:10534   \n",
       "37165   Disease::DOID:219  Disease - resembles - Disease   Disease::DOID:3121   \n",
       "37166  Disease::DOID:4045  Disease - resembles - Disease   Disease::DOID:2174   \n",
       "\n",
       "                 source_name           target_name kind_of_source  \\\n",
       "0           germ cell cancer  head and neck cancer        Disease   \n",
       "1               colon cancer          liver cancer        Disease   \n",
       "2              kidney cancer         muscle cancer        Disease   \n",
       "3      fallopian tube cancer       uterine fibroid        Disease   \n",
       "4                bone cancer       prostate cancer        Disease   \n",
       "...                      ...                   ...            ...   \n",
       "37162           colon cancer    ulcerative colitis        Disease   \n",
       "37163       germ cell cancer        jejunal cancer        Disease   \n",
       "37164      pancreatic cancer        stomach cancer        Disease   \n",
       "37165           colon cancer    gallbladder cancer        Disease   \n",
       "37166          muscle cancer         ocular cancer        Disease   \n",
       "\n",
       "      kind_of_target  \n",
       "0            Disease  \n",
       "1            Disease  \n",
       "2            Disease  \n",
       "3            Disease  \n",
       "4            Disease  \n",
       "...              ...  \n",
       "37162        Disease  \n",
       "37163        Disease  \n",
       "37164        Disease  \n",
       "37165        Disease  \n",
       "37166        Disease  \n",
       "\n",
       "[37167 rows x 7 columns]"
      ]
     },
     "execution_count": 59,
     "metadata": {},
     "output_type": "execute_result"
    }
   ],
   "source": [
    "df_target_disease"
   ]
  },
  {
   "cell_type": "code",
   "execution_count": 42,
   "metadata": {},
   "outputs": [],
   "source": [
    "gene_disease = df_gene[df_gene['kind_of_target']=='Disease']"
   ]
  },
  {
   "cell_type": "code",
   "execution_count": 41,
   "metadata": {},
   "outputs": [
    {
     "data": {
      "text/html": [
       "<div>\n",
       "<style scoped>\n",
       "    .dataframe tbody tr th:only-of-type {\n",
       "        vertical-align: middle;\n",
       "    }\n",
       "\n",
       "    .dataframe tbody tr th {\n",
       "        vertical-align: top;\n",
       "    }\n",
       "\n",
       "    .dataframe thead th {\n",
       "        text-align: right;\n",
       "    }\n",
       "</style>\n",
       "<table border=\"1\" class=\"dataframe\">\n",
       "  <thead>\n",
       "    <tr style=\"text-align: right;\">\n",
       "      <th></th>\n",
       "      <th>source</th>\n",
       "      <th>metaedge</th>\n",
       "      <th>target</th>\n",
       "      <th>source_name</th>\n",
       "      <th>target_name</th>\n",
       "      <th>kind_of_source</th>\n",
       "      <th>kind_of_target</th>\n",
       "    </tr>\n",
       "  </thead>\n",
       "  <tbody>\n",
       "  </tbody>\n",
       "</table>\n",
       "</div>"
      ],
      "text/plain": [
       "Empty DataFrame\n",
       "Columns: [source, metaedge, target, source_name, target_name, kind_of_source, kind_of_target]\n",
       "Index: []"
      ]
     },
     "execution_count": 41,
     "metadata": {},
     "output_type": "execute_result"
    }
   ],
   "source": [
    "gene_disease"
   ]
  },
  {
   "cell_type": "code",
   "execution_count": 78,
   "metadata": {},
   "outputs": [
    {
     "data": {
      "text/plain": [
       "['Cellular Component',\n",
       " 'Pathway',\n",
       " 'Gene',\n",
       " 'Compound',\n",
       " 'Symptom',\n",
       " 'Anatomy',\n",
       " 'Molecular Function',\n",
       " 'Side Effect',\n",
       " 'Pharmacologic Class',\n",
       " 'Disease',\n",
       " 'Biological Process']"
      ]
     },
     "execution_count": 78,
     "metadata": {},
     "output_type": "execute_result"
    }
   ],
   "source": [
    "list(set(list(set(final_network_map['kind_of_source'])) + list(set(final_network_map['kind_of_target']))))"
   ]
  },
  {
   "cell_type": "code",
   "execution_count": 30,
   "metadata": {},
   "outputs": [
    {
     "data": {
      "text/plain": [
       "['Cellular Component',\n",
       " 'Pathway',\n",
       " 'Gene',\n",
       " 'Compound',\n",
       " 'Symptom',\n",
       " 'Anatomy',\n",
       " 'Molecular Function',\n",
       " 'Side Effect',\n",
       " 'Disease',\n",
       " 'Biological Process']"
      ]
     },
     "execution_count": 30,
     "metadata": {},
     "output_type": "execute_result"
    }
   ],
   "source": [
    "list(set(final_network_map['kind_of_target']))"
   ]
  },
  {
   "cell_type": "code",
   "execution_count": 31,
   "metadata": {},
   "outputs": [],
   "source": [
    "final_network_map.to_csv(\"data/final_network_map\" + '.bz2', \\\n",
    "                                           index=False, \\\n",
    "                                           compression='bz2')"
   ]
  },
  {
   "cell_type": "code",
   "execution_count": 32,
   "metadata": {},
   "outputs": [],
   "source": [
    "import os"
   ]
  },
  {
   "cell_type": "code",
   "execution_count": 51,
   "metadata": {},
   "outputs": [
    {
     "name": "stdout",
     "output_type": "stream",
     "text": [
      "3.5 s ± 10.4 ms per loop (mean ± std. dev. of 5 runs, 5 loops each)\n"
     ]
    }
   ],
   "source": [
    "final_network_map_read = !timeit -n5 -r5 -o pd.read_csv(\"data/final_network_map\" + '.gzip', \\\n",
    "                        z                     compression='gzip')\n"
   ]
  },
  {
   "cell_type": "code",
   "execution_count": 52,
   "metadata": {},
   "outputs": [
    {
     "data": {
      "text/plain": [
       "<TimeitResult : 3.5 s ± 10.4 ms per loop (mean ± std. dev. of 5 runs, 5 loops each)>"
      ]
     },
     "execution_count": 52,
     "metadata": {},
     "output_type": "execute_result"
    }
   ],
   "source": [
    "final_network_map_read"
   ]
  },
  {
   "cell_type": "code",
   "execution_count": null,
   "metadata": {},
   "outputs": [],
   "source": [
    "final_network_map_read = !timeit -n5 -r5 -o pd.read_csv(\"data/final_network_map\" + '.gzip', \\\n",
    "                        z                     compression='gzip')\n"
   ]
  },
  {
   "cell_type": "code",
   "execution_count": null,
   "metadata": {},
   "outputs": [],
   "source": []
  },
  {
   "cell_type": "markdown",
   "metadata": {},
   "source": [
    "# Use JSON to create a dataframe"
   ]
  },
  {
   "cell_type": "markdown",
   "metadata": {},
   "source": [
    "metagraph = pd.read_jsc"
   ]
  }
 ],
 "metadata": {
  "kernelspec": {
   "display_name": "Python 3.10.4 ('pythonProject2')",
   "language": "python",
   "name": "python3"
  },
  "language_info": {
   "codemirror_mode": {
    "name": "ipython",
    "version": 3
   },
   "file_extension": ".py",
   "mimetype": "text/x-python",
   "name": "python",
   "nbconvert_exporter": "python",
   "pygments_lexer": "ipython3",
   "version": "3.10.4"
  },
  "vscode": {
   "interpreter": {
    "hash": "5c4524164cfa691c3e0cad9c982a76b92fef46bea43dc20e691c27cb00fd4d32"
   }
  }
 },
 "nbformat": 4,
 "nbformat_minor": 0
}
